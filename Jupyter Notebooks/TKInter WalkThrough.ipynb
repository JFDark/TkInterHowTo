{
 "metadata": {
  "language_info": {
   "codemirror_mode": {
    "name": "ipython",
    "version": 3
   },
   "file_extension": ".py",
   "mimetype": "text/x-python",
   "name": "python",
   "nbconvert_exporter": "python",
   "pygments_lexer": "ipython3",
   "version": 3
  },
  "orig_nbformat": 2
 },
 "nbformat": 4,
 "nbformat_minor": 2,
 "cells": [
  {
   "source": [
    "This notebook uses Python 3.9 and is used to work with TkInter\n",
    "TkInter uses \"frames\" to setup GUI windows. Frames can be inside other frames to to help organize the gui."
   ],
   "cell_type": "markdown",
   "metadata": {}
  },
  {
   "source": [
    "First you must import the tkinter package using:\n",
    "from tkinter import *\n",
    " "
   ],
   "cell_type": "markdown",
   "metadata": {}
  },
  {
   "source": [
    "Each \"widget\" needs a \"master\" or \"parent\""
   ],
   "cell_type": "markdown",
   "metadata": {}
  },
  {
   "source": [
    "Walkthroughs and tutorials can be found at:\n"
   ],
   "cell_type": "markdown",
   "metadata": {}
  },
  {
   "source": [
    "https://coderslegacy.com/python/python-gui/python-tkinter-frame/\n"
   ],
   "cell_type": "markdown",
   "metadata": {}
  },
  {
   "source": [
    "https://medium.com/quick-code/3d-graphics-with-the-python-standard-library-af3794d0cba\n"
   ],
   "cell_type": "markdown",
   "metadata": {}
  }
 ]
}