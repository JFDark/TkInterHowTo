{
 "metadata": {
  "language_info": {
   "codemirror_mode": {
    "name": "ipython",
    "version": 3
   },
   "file_extension": ".py",
   "mimetype": "text/x-python",
   "name": "python",
   "nbconvert_exporter": "python",
   "pygments_lexer": "ipython3",
   "version": 3
  },
  "orig_nbformat": 2
 },
 "nbformat": 4,
 "nbformat_minor": 2,
 "cells": [
  {
   "source": [
    "This notebook uses Python 3.9 and is used to work with TkInter\n",
    "TkInter uses \"frames\" to setup GUI windows. Frames can be inside other frames to "
   ],
   "cell_type": "markdown",
   "metadata": {}
  }
 ]
}